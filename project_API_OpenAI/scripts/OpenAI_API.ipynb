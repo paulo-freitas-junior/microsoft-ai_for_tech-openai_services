{
 "cells": [
  {
   "cell_type": "markdown",
   "metadata": {},
   "source": [
    "#### 1. Configurando o ambiente"
   ]
  },
  {
   "cell_type": "code",
   "execution_count": 10,
   "metadata": {},
   "outputs": [],
   "source": [
    "# Instalando os pacotes necessários\n",
    "# pip install -U ipykernel    # Kernel do Jupyter\n",
    "# pip install -U jupyter      # Jupyter\n",
    "# pip install openai          # API do OpenAI"
   ]
  },
  {
   "cell_type": "code",
   "execution_count": 30,
   "metadata": {},
   "outputs": [],
   "source": [
    "# Configuração básica\n",
    "import os                          # Biblioteca para manipulação de arquivos\n",
    "from openai import OpenAI          # Biblioteca para uso da API do OpenAI       \n",
    "import json                        # Biblioteca para manipulação de arquivos JSON\n",
    "\n",
    "# Carregando variáveis de ambiente\n",
    "with open('azure_openai_keys.json', 'r') as f:                  # Carregando as chaves de API   \n",
    "    keys = json.load(f)                                         \n",
    "\n",
    "# Configuração da API \n",
    "\n",
    "api_base = keys[\"AZURE_OPENAI_ENDPOINT\"]                 # Endpoint da API  (azure, gcp, aws)\n",
    "api_key = keys[\"AZURE_OPENAI_API_KEY\"]                   # Chave de API do OpenAI"
   ]
  },
  {
   "cell_type": "markdown",
   "metadata": {},
   "source": [
    "#### 2. Chamada da API"
   ]
  },
  {
   "cell_type": "code",
   "execution_count": 32,
   "metadata": {},
   "outputs": [
    {
     "ename": "TypeError",
     "evalue": "OpenAI.__init__() got an unexpected keyword argument 'azure_endpoint'",
     "output_type": "error",
     "traceback": [
      "\u001b[1;31m---------------------------------------------------------------------------\u001b[0m",
      "\u001b[1;31mTypeError\u001b[0m                                 Traceback (most recent call last)",
      "Cell \u001b[1;32mIn[32], line 5\u001b[0m\n\u001b[0;32m      1\u001b[0m \u001b[38;5;66;03m# Exemplo de chamada à API para geração de texto\u001b[39;00m\n\u001b[0;32m      2\u001b[0m \n\u001b[0;32m      3\u001b[0m \u001b[38;5;66;03m# Inicialização do cliente OpenAI com as configurações\u001b[39;00m\n\u001b[1;32m----> 5\u001b[0m client \u001b[38;5;241m=\u001b[39m OpenAI(\n\u001b[0;32m      6\u001b[0m     api_key\u001b[38;5;241m=\u001b[39mapi_key,\n\u001b[0;32m      7\u001b[0m     azure_endpoint\u001b[38;5;241m=\u001b[39mapi_base,\n\u001b[0;32m      8\u001b[0m     api_version\u001b[38;5;241m=\u001b[39m\u001b[38;5;124m\"\u001b[39m\u001b[38;5;124m2020-05-03\u001b[39m\u001b[38;5;124m\"\u001b[39m    \n\u001b[0;32m      9\u001b[0m )\n\u001b[0;32m     11\u001b[0m \u001b[38;5;66;03m# Chamada à API para geração de texto  \u001b[39;00m\n\u001b[0;32m     12\u001b[0m \u001b[38;5;28;01mtry\u001b[39;00m:\n",
      "\u001b[1;31mTypeError\u001b[0m: OpenAI.__init__() got an unexpected keyword argument 'azure_endpoint'"
     ]
    }
   ],
   "source": [
    "# Exemplo de chamada à API para geração de texto\n",
    "\n",
    "# Inicialização do cliente OpenAI com as configurações\n",
    "\n",
    "client = OpenAI(\n",
    "    api_key=api_key,\n",
    "    azure_endpoint=api_base,\n",
    "    api_version=\"2020-05-03\"    \n",
    ")\n",
    "\n",
    "# Chamada à API para geração de texto  \n",
    "try:\n",
    "    response = client.completions.create(\n",
    "        model=\"gpt-4o\",                         # Nome do modelo\n",
    "        temperature=0.7,                        # Controla a criatividade do texto gerado  (0.0 - 1.0)\n",
    "        max_tokens=100,                         # Número máximo de tokens a serem gerados no texto\n",
    "        prompt=\"Explique o que é Inteligência Artificial Generativa.\"      # Texto de entrada para geração de texto\n",
    "    )\n",
    "\n",
    "    print(response.choices[0].text.strip())     # Exibindo o texto gerado pela API\n",
    "\n",
    "except Exception as e:\n",
    "    print(f\"Erro ao chamar a API: {e}\")         # Exibindo o erro caso ocorra   "
   ]
  },
  {
   "cell_type": "markdown",
   "metadata": {},
   "source": [
    "#### 3. Exibir modelos disponiveis "
   ]
  },
  {
   "cell_type": "code",
   "execution_count": 34,
   "metadata": {},
   "outputs": [
    {
     "ename": "APIRemovedInV1",
     "evalue": "\n\nYou tried to access openai.Model, but this is no longer supported in openai>=1.0.0 - see the README at https://github.com/openai/openai-python for the API.\n\nYou can run `openai migrate` to automatically upgrade your codebase to use the 1.0.0 interface. \n\nAlternatively, you can pin your installation to the old version, e.g. `pip install openai==0.28`\n\nA detailed migration guide is available here: https://github.com/openai/openai-python/discussions/742\n",
     "output_type": "error",
     "traceback": [
      "\u001b[1;31m---------------------------------------------------------------------------\u001b[0m",
      "\u001b[1;31mAPIRemovedInV1\u001b[0m                            Traceback (most recent call last)",
      "Cell \u001b[1;32mIn[34], line 6\u001b[0m\n\u001b[0;32m      2\u001b[0m openai\u001b[38;5;241m.\u001b[39mapi_key \u001b[38;5;241m=\u001b[39m keys[\u001b[38;5;124m\"\u001b[39m\u001b[38;5;124mAZURE_OPENAI_API_KEY\u001b[39m\u001b[38;5;124m\"\u001b[39m]\n\u001b[0;32m      4\u001b[0m \u001b[38;5;66;03m# Listando modelos disponíveis\u001b[39;00m\n\u001b[1;32m----> 6\u001b[0m models \u001b[38;5;241m=\u001b[39m openai\u001b[38;5;241m.\u001b[39mModel\u001b[38;5;241m.\u001b[39mlist()    \u001b[38;5;66;03m# Listando modelos disponíveis\u001b[39;00m\n\u001b[0;32m      7\u001b[0m \u001b[38;5;28;01mfor\u001b[39;00m model \u001b[38;5;129;01min\u001b[39;00m models\u001b[38;5;241m.\u001b[39mdata:\n\u001b[0;32m      8\u001b[0m     \u001b[38;5;28mprint\u001b[39m(model\u001b[38;5;241m.\u001b[39mid)\n",
      "File \u001b[1;32mc:\\Users\\junio\\anaconda3\\Lib\\site-packages\\openai\\lib\\_old_api.py:39\u001b[0m, in \u001b[0;36mAPIRemovedInV1Proxy.__call__\u001b[1;34m(self, *_args, **_kwargs)\u001b[0m\n\u001b[0;32m     38\u001b[0m \u001b[38;5;28;01mdef\u001b[39;00m \u001b[38;5;21m__call__\u001b[39m(\u001b[38;5;28mself\u001b[39m, \u001b[38;5;241m*\u001b[39m_args: Any, \u001b[38;5;241m*\u001b[39m\u001b[38;5;241m*\u001b[39m_kwargs: Any) \u001b[38;5;241m-\u001b[39m\u001b[38;5;241m>\u001b[39m Any:\n\u001b[1;32m---> 39\u001b[0m     \u001b[38;5;28;01mraise\u001b[39;00m APIRemovedInV1(symbol\u001b[38;5;241m=\u001b[39m\u001b[38;5;28mself\u001b[39m\u001b[38;5;241m.\u001b[39m_symbol)\n",
      "\u001b[1;31mAPIRemovedInV1\u001b[0m: \n\nYou tried to access openai.Model, but this is no longer supported in openai>=1.0.0 - see the README at https://github.com/openai/openai-python for the API.\n\nYou can run `openai migrate` to automatically upgrade your codebase to use the 1.0.0 interface. \n\nAlternatively, you can pin your installation to the old version, e.g. `pip install openai==0.28`\n\nA detailed migration guide is available here: https://github.com/openai/openai-python/discussions/742\n"
     ]
    }
   ],
   "source": [
    "import openai\n",
    "openai.api_key = keys[\"AZURE_OPENAI_API_KEY\"]\n",
    "\n",
    "# Listando modelos disponíveis\n",
    "\n",
    "models = openai.Model.list()    # Listando modelos disponíveis\n",
    "for model in models.data:\n",
    "    print(model.id)"
   ]
  },
  {
   "cell_type": "markdown",
   "metadata": {},
   "source": [
    "#### 4. Personalizar respostas com parâmetros"
   ]
  },
  {
   "cell_type": "code",
   "execution_count": null,
   "metadata": {},
   "outputs": [],
   "source": [
    "# Ajustando parâmetros para personalizar a resposta\n",
    "\n",
    "response = openai.Completion.create(        # Chamada à API para geração de texto   \n",
    "    engine=\"davinci\",                       # Nome do modelo       \n",
    "    prompt=\"Escreva uma história curta sobre uma Capivara.\",    # Texto de entrada\n",
    "    temperature=0.5,                        # Controla a criatividade do texto gerado  (0.0 - 1.0)\n",
    "    max_tokens=150,                         # Número máximo de tokens a serem gerados no texto\n",
    "    top_p=1.0,                              # Controla a probabilidade de escolha das palavras geradas (0.0 - 1.0)  \n",
    "    frequency_penalty=0.5,                  # Controla a frequência das palavras geradas (0.0 - 1.0)\n",
    "    presence_penalty=0.5                    # Controla a presença das palavras geradas (0.0 - 1.0)\n",
    ")\n",
    "\n",
    "print(response.choices[0].text.strip())     # Exibindo o texto gerado"
   ]
  },
  {
   "cell_type": "markdown",
   "metadata": {},
   "source": [
    "#### 5. Trabalhando com conversas (chatbots)"
   ]
  },
  {
   "cell_type": "code",
   "execution_count": null,
   "metadata": {},
   "outputs": [],
   "source": [
    "# Exemplo de conversa com o modelo\n",
    "messages = [    #   Mensagens trocadas entre o usuário e o modelo\n",
    "    {\"role\": \"system\", \"content\": \"Você é um especialista em pescarias.\"},\n",
    "    {\"role\": \"user\", \"content\": \"De onde é o peixe Tambaqui?\"}\n",
    "]\n",
    "\n",
    "response = openai.ChatCompletion.create( #  Chamada à API para conversação  com o modelo\n",
    "    engine=\"gpt-4\",             # Nome do modelo\n",
    "    messages=messages,          # Mensagens trocadas entre o usuário e o modelo\n",
    "    temperature=0.7,            # Controla a criatividade do texto gerado  (0.0 - 1.0)\n",
    "    max_tokens=100              # Número máximo de tokens a serem gerados no texto    \n",
    ")\n",
    "\n",
    "print(response.choices[0].message['content'])   # Exibindo a resposta do modelo ao usuário"
   ]
  },
  {
   "cell_type": "markdown",
   "metadata": {},
   "source": [
    "#### 6. Integração com aplicações"
   ]
  },
  {
   "cell_type": "code",
   "execution_count": null,
   "metadata": {},
   "outputs": [],
   "source": [
    "# Integração simples em uma aplicação Flask\n",
    "from flask import Flask, request, jsonify\n",
    "import openai \n",
    "\n",
    "app = Flask(__name__)       # Inicializando a aplicação Flask\n",
    "\n",
    "@app.route('/generate', methods=['POST'])       # Rota para geração de texto\n",
    "\n",
    "def generate_text():                            # Função para geração de texto \n",
    "    data = request.json                         # Recebendo dados da requisição \n",
    "    prompt = data.get('prompt')                 # Obtendo o prompt da requisição\n",
    "\n",
    "    response = openai.Completion.create(        # Chamada à API para geração de texto  com base no prompt\n",
    "        engine=\"davinci\",                       # Nome do modelo\n",
    "        prompt=prompt,                          # Prompt para geração de texto\n",
    "        temperature=0.7,                        # Controla a criatividade do texto gerado  (0.0 - 1.0) \n",
    "        max_tokens=100                          # Número máximo de tokens a serem gerados no texto\n",
    "    )\n",
    "\n",
    "    return jsonify({\"response\": response.choices[0].text.strip()})        # Retornando a resposta  gerada  pela API\n",
    "\n",
    "if __name__ == '__main__':          # Inicializando a aplicação Flask\n",
    "    app.run(debug=True)             # Executando a aplicação Flask"
   ]
  }
 ],
 "metadata": {
  "kernelspec": {
   "display_name": "base",
   "language": "python",
   "name": "python3"
  },
  "language_info": {
   "codemirror_mode": {
    "name": "ipython",
    "version": 3
   },
   "file_extension": ".py",
   "mimetype": "text/x-python",
   "name": "python",
   "nbconvert_exporter": "python",
   "pygments_lexer": "ipython3",
   "version": "3.11.10"
  }
 },
 "nbformat": 4,
 "nbformat_minor": 2
}
