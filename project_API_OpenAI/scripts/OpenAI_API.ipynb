{
 "cells": [
  {
   "cell_type": "markdown",
   "metadata": {},
   "source": [
    "#### 1. Configurando o ambiente"
   ]
  },
  {
   "cell_type": "code",
   "execution_count": null,
   "metadata": {},
   "outputs": [
    {
     "ename": "SyntaxError",
     "evalue": "invalid syntax (3298038536.py, line 2)",
     "output_type": "error",
     "traceback": [
      "  \u001b[36mCell\u001b[39m\u001b[36m \u001b[39m\u001b[32mIn[1]\u001b[39m\u001b[32m, line 2\u001b[39m\n\u001b[31m    \u001b[39m\u001b[31mpip install -U ipykernel    # Kernel do Jupyter\u001b[39m\n        ^\n\u001b[31mSyntaxError\u001b[39m\u001b[31m:\u001b[39m invalid syntax\n"
     ]
    }
   ],
   "source": [
    "# Instalando os pacotes necessários\n",
    "# pip install -U ipykernel    # Kernel do Jupyter\n",
    "# pip install -U jupyter      # Jupyter\n",
    "# pip install openai          # API do OpenAI"
   ]
  },
  {
   "cell_type": "code",
   "execution_count": null,
   "metadata": {},
   "outputs": [],
   "source": [
    "# Configuração básica\n",
    "import openai\n",
    "\n",
    "openai.api_type = \"azure\"   # Tipo de API   (azure, gcp, aws)\n",
    "openai.api_base = \"https://<seu-endpoint>.openai.azure.com/\" # Endpoint da API  (azure, gcp, aws)\n",
    "openai.api_version = \"2023-05-15\" # Versão da API   (2023-05-15)\n",
    "openai.api_key = \"<sua-chave-de-api>\" # Chave de API    "
   ]
  },
  {
   "cell_type": "markdown",
   "metadata": {},
   "source": [
    "#### 2. Chamada da API"
   ]
  },
  {
   "cell_type": "code",
   "execution_count": null,
   "metadata": {},
   "outputs": [],
   "source": [
    "# Exemplo de chamada à API para geração de texto\n",
    "\n",
    "response = openai.Completion.create(    # Chamada à API para geração de texto\n",
    "    engine=\"davinci\",  # Nome do modelo\n",
    "    prompt=\"Explique o que é Inteligência Artificial Generativa.\",\n",
    "    temperature=0.7, # Controla a criatividade do texto gerado  (0.0 - 1.0)\n",
    "    max_tokens=100   # Número máximo de tokens a serem gerados no texto\n",
    ")\n",
    "\n",
    "print(response.choices[0].text.strip())"
   ]
  },
  {
   "cell_type": "markdown",
   "metadata": {},
   "source": [
    "#### 3. Exibir modelos disponiveis "
   ]
  },
  {
   "cell_type": "code",
   "execution_count": null,
   "metadata": {},
   "outputs": [],
   "source": [
    "# Listando modelos disponíveis\n",
    "\n",
    "models = openai.Model.list()    # Listando modelos disponíveis\n",
    "for model in models.data:\n",
    "    print(model.id)"
   ]
  },
  {
   "cell_type": "markdown",
   "metadata": {},
   "source": [
    "#### 4. Personalizar respostas com parâmetros"
   ]
  },
  {
   "cell_type": "code",
   "execution_count": null,
   "metadata": {},
   "outputs": [],
   "source": [
    "# Ajustando parâmetros para personalizar a resposta\n",
    "\n",
    "response = openai.Completion.create(        # Chamada à API para geração de texto   \n",
    "    engine=\"davinci\",                       # Nome do modelo       \n",
    "    prompt=\"Escreva uma história curta sobre uma Capivara.\",    # Texto de entrada\n",
    "    temperature=0.5,                        # Controla a criatividade do texto gerado  (0.0 - 1.0)\n",
    "    max_tokens=150,                         # Número máximo de tokens a serem gerados no texto\n",
    "    top_p=1.0,                              # Controla a probabilidade de escolha das palavras geradas (0.0 - 1.0)  \n",
    "    frequency_penalty=0.5,                  # Controla a frequência das palavras geradas (0.0 - 1.0)\n",
    "    presence_penalty=0.5                    # Controla a presença das palavras geradas (0.0 - 1.0)\n",
    ")\n",
    "\n",
    "print(response.choices[0].text.strip())     # Exibindo o texto gerado"
   ]
  },
  {
   "cell_type": "markdown",
   "metadata": {},
   "source": [
    "#### 5. Trabalhando com conversas (chatbots)"
   ]
  },
  {
   "cell_type": "code",
   "execution_count": null,
   "metadata": {},
   "outputs": [],
   "source": [
    "# Exemplo de conversa com o modelo\n",
    "messages = [    #   Mensagens trocadas entre o usuário e o modelo\n",
    "    {\"role\": \"system\", \"content\": \"Você é um especialista em pescarias.\"},\n",
    "    {\"role\": \"user\", \"content\": \"De onde é o peixe Tambaqui?\"}\n",
    "]\n",
    "\n",
    "response = openai.ChatCompletion.create( #  Chamada à API para conversação  com o modelo\n",
    "    engine=\"gpt-4\",             # Nome do modelo\n",
    "    messages=messages,          # Mensagens trocadas entre o usuário e o modelo\n",
    "    temperature=0.7,            # Controla a criatividade do texto gerado  (0.0 - 1.0)\n",
    "    max_tokens=100              # Número máximo de tokens a serem gerados no texto    \n",
    ")\n",
    "\n",
    "print(response.choices[0].message['content'])   # Exibindo a resposta do modelo ao usuário"
   ]
  },
  {
   "cell_type": "markdown",
   "metadata": {},
   "source": [
    "#### 6. Integração com aplicações"
   ]
  },
  {
   "cell_type": "code",
   "execution_count": null,
   "metadata": {},
   "outputs": [],
   "source": [
    "# Integração simples em uma aplicação Flask\n",
    "from flask import Flask, request, jsonify\n",
    "import openai \n",
    "\n",
    "app = Flask(__name__)       # Inicializando a aplicação Flask\n",
    "\n",
    "@app.route('/generate', methods=['POST'])       # Rota para geração de texto\n",
    "\n",
    "def generate_text():                            # Função para geração de texto \n",
    "    data = request.json                         # Recebendo dados da requisição \n",
    "    prompt = data.get('prompt')                 # Obtendo o prompt da requisição\n",
    "\n",
    "    response = openai.Completion.create(        # Chamada à API para geração de texto  com base no prompt\n",
    "        engine=\"davinci\",                       # Nome do modelo\n",
    "        prompt=prompt,                          # Prompt para geração de texto\n",
    "        temperature=0.7,                        # Controla a criatividade do texto gerado  (0.0 - 1.0) \n",
    "        max_tokens=100                          # Número máximo de tokens a serem gerados no texto\n",
    "    )\n",
    "\n",
    "    return jsonify({\"response\": response.choices[0].text.strip()})        # Retornando a resposta  gerada  pela API\n",
    "\n",
    "if __name__ == '__main__':          # Inicializando a aplicação Flask\n",
    "    app.run(debug=True)             # Executando a aplicação Flask"
   ]
  }
 ],
 "metadata": {
  "kernelspec": {
   "display_name": "Python 3",
   "language": "python",
   "name": "python3"
  },
  "language_info": {
   "codemirror_mode": {
    "name": "ipython",
    "version": 3
   },
   "file_extension": ".py",
   "mimetype": "text/x-python",
   "name": "python",
   "nbconvert_exporter": "python",
   "pygments_lexer": "ipython3",
   "version": "3.13.1"
  }
 },
 "nbformat": 4,
 "nbformat_minor": 2
}
