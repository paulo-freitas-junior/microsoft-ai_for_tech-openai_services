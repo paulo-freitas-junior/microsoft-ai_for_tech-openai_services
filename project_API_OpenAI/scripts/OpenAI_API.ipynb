{
 "cells": [
  {
   "cell_type": "markdown",
   "metadata": {},
   "source": [
    "#### 1. Configurando o ambiente"
   ]
  },
  {
   "cell_type": "code",
   "execution_count": 1,
   "metadata": {},
   "outputs": [],
   "source": [
    "# Instalando os pacotes necessários\n",
    "\n",
    "# pip install -U ipykernel    # Kernel do Jupyter\n",
    "# pip install -U jupyter      # Jupyter\n",
    "# pip install openai          # API do OpenAI\n",
    "# pip install flask-cors      # CORS para o Flask"
   ]
  },
  {
   "cell_type": "code",
   "execution_count": null,
   "metadata": {},
   "outputs": [],
   "source": [
    "# Configuração básica\n",
    "\n",
    "import os                                               # Biblioteca para manipulação de arquivos\n",
    "from openai import OpenAI                               # Biblioteca para uso da API do OpenAI       \n",
    "import json                                             # Biblioteca para manipulação de arquivos JSON\n",
    "\n",
    "# Carregando variáveis de ambiente\n",
    "\n",
    "with open('azure_openai_keys.json', 'r') as f:          # Carregando as chaves de API   \n",
    "    keys = json.load(f)                                                                         \n",
    "\n",
    "# Configuração da API \n",
    "\n",
    "api_key = keys[\"AZURE_OPENAI_API_KEY\"]                  # Chave de API do OpenAI\n",
    "api_base = keys[\"AZURE_OPENAI_ENDPOINT\"]                # Endpoint da API  (azure, gcp, aws)"
   ]
  },
  {
   "cell_type": "markdown",
   "metadata": {},
   "source": [
    "#### 2. Chamada da API"
   ]
  },
  {
   "cell_type": "code",
   "execution_count": 6,
   "metadata": {},
   "outputs": [
    {
     "name": "stdout",
     "output_type": "stream",
     "text": [
      "Erro ao chamar a API: Error code: 404 - {'error': {'code': '404', 'message': 'Resource not found'}}\n"
     ]
    }
   ],
   "source": [
    "# Exemplo de chamada à API para geração de texto\n",
    "\n",
    "# Inicialização do cliente OpenAI com as configurações\n",
    "\n",
    "client = OpenAI(\n",
    "    api_key=api_key,                            # Chave de API\n",
    "    base_url=api_base,                          # Endpoint da API\n",
    ")\n",
    "\n",
    "# Chamada à API para geração de texto\n",
    "\n",
    "try:\n",
    "    response = client.completions.create(\n",
    "        model=\"gpt-4\",                         # Nome do modelo\n",
    "        temperature=0.7,                        # Controla a criatividade do texto gerado  (0.0 - 1.0)\n",
    "        max_tokens=100,                         # Número máximo de tokens a serem gerados no texto\n",
    "        prompt=\"Explique o que é Inteligência Artificial Generativa.\"      # Texto de entrada para geração de texto\n",
    "    )\n",
    "\n",
    "    print(response.choices[0].text.strip())     # Exibindo o texto gerado pela API\n",
    "\n",
    "except Exception as e:\n",
    "    print(f\"Erro ao chamar a API: {e}\")         # Exibindo o erro caso ocorra   "
   ]
  },
  {
   "cell_type": "markdown",
   "metadata": {},
   "source": [
    "#### 3. Exibir modelos disponiveis "
   ]
  },
  {
   "cell_type": "code",
   "execution_count": null,
   "metadata": {},
   "outputs": [
    {
     "name": "stdout",
     "output_type": "stream",
     "text": [
      "Erro ao listar modelos: name 'client' is not defined\n"
     ]
    }
   ],
   "source": [
    "# Listando modelos disponíveis\n",
    "\n",
    "try:\n",
    "    models = client.models.list()                       # Chamada à API para listar os modelos disponíveis\n",
    "    for model in models:                                # Iterando sobre os modelos\n",
    "        print(model.id)\n",
    "        \n",
    "except Exception as e:\n",
    "    print(f\"Erro ao listar modelos: {e}\")               # Exibindo o erro caso ocorra"
   ]
  },
  {
   "cell_type": "markdown",
   "metadata": {},
   "source": [
    "#### 4. Personalizar respostas com parâmetros"
   ]
  },
  {
   "cell_type": "code",
   "execution_count": 2,
   "metadata": {},
   "outputs": [
    {
     "name": "stdout",
     "output_type": "stream",
     "text": [
      "Erro na geração de texto: name 'client' is not defined\n"
     ]
    }
   ],
   "source": [
    "# Ajustando parâmetros para personalizar a resposta\n",
    "\n",
    "try:\n",
    "    response = client.completions.create(\n",
    "        model=\"gpt-4\",                                              # Atualizado nome do modelo\n",
    "        prompt=\"Escreva uma história curta sobre uma Capivara.\",    # Texto de entrada para geração de texto\n",
    "        temperature=0.5,                                            # Controla a criatividade do texto gerado  (0.0 - 1.0)       \n",
    "        max_tokens=150,                                             # Número máximo de tokens a serem gerados no texto\n",
    "        top_p=1.0,                                                  # Controla a probabilidade de escolha de tokens\n",
    "        frequency_penalty=0.5,                                      # Controla a frequência de palavras repetidas\n",
    "        presence_penalty=0.5                                        # Controla a presença de palavras repetidas\n",
    "    )\n",
    "\n",
    "    print(response.choices[0].text.strip())                         # Exibindo o texto gerado pela API\n",
    "\n",
    "except Exception as e:                                              # Exibindo o erro caso ocorra\n",
    "    print(f\"Erro na geração de texto: {e}\")                         "
   ]
  },
  {
   "cell_type": "markdown",
   "metadata": {},
   "source": [
    "#### 5. Trabalhando com conversas (chatbots)"
   ]
  },
  {
   "cell_type": "code",
   "execution_count": 6,
   "metadata": {},
   "outputs": [
    {
     "name": "stdout",
     "output_type": "stream",
     "text": [
      "Erro na conversação: Error code: 404 - {'error': {'code': '404', 'message': 'Resource not found'}}\n"
     ]
    }
   ],
   "source": [
    "# Exemplo de conversa com o modelo\n",
    "\n",
    "messages = [    \n",
    "    {\"role\": \"system\", \"content\": \"Você é um especialista em pescarias.\"},\n",
    "    {\"role\": \"user\", \"content\": \"De onde é o peixe Tambaqui?\"}\n",
    "]\n",
    "\n",
    "try:\n",
    "    response = client.chat.completions.create(\n",
    "        model=\"gpt-4\",             # Nome do modelo\n",
    "        messages=messages,          # Mensagens trocadas entre o usuário e o modelo\n",
    "        temperature=0.7,           # Controla a criatividade do texto gerado\n",
    "        max_tokens=100            # Número máximo de tokens a serem gerados\n",
    "    )\n",
    "\n",
    "    print(response.choices[0].message.content)   # Exibindo a resposta do modelo\n",
    "\n",
    "except Exception as e:\n",
    "    print(f\"Erro na conversação: {e}\")"
   ]
  },
  {
   "cell_type": "markdown",
   "metadata": {},
   "source": [
    "#### 6. Integração com aplicações"
   ]
  },
  {
   "cell_type": "code",
   "execution_count": null,
   "metadata": {},
   "outputs": [
    {
     "ename": "SyntaxError",
     "evalue": "invalid syntax (2996928757.py, line 3)",
     "output_type": "error",
     "traceback": [
      "\u001b[1;36m  Cell \u001b[1;32mIn[22], line 3\u001b[1;36m\u001b[0m\n\u001b[1;33m    from flask-cors import CORS\u001b[0m\n\u001b[1;37m              ^\u001b[0m\n\u001b[1;31mSyntaxError\u001b[0m\u001b[1;31m:\u001b[0m invalid syntax\n"
     ]
    }
   ],
   "source": [
    "from flask import Flask, request, jsonify\n",
    "from openai import OpenAI\n",
    "from flask_cors import CORS\n",
    "\n",
    "# Inicializando a aplicação Flask\n",
    "app = Flask(__name__)\n",
    "CORS(app)\n",
    "\n",
    "# Inicializando o cliente OpenAI com verificação de credenciais\n",
    "try:\n",
    "    client = OpenAI(\n",
    "        api_key=keys[\"AZURE_OPENAI_API_KEY\"],\n",
    "        base_url=keys[\"AZURE_OPENAI_ENDPOINT\"]\n",
    "    )\n",
    "except KeyError as e:\n",
    "    print(f\"Erro: Credencial não encontrada - {e}\")\n",
    "    raise\n",
    "\n",
    "@app.route('/generate', methods=['POST'])\n",
    "def generate_text():\n",
    "    try:\n",
    "        data = request.json\n",
    "        if not data or 'prompt' not in data:\n",
    "            return jsonify({\"error\": \"Prompt não fornecido\"}), 400\n",
    "        \n",
    "        # Usando chat completion ao invés de completion\n",
    "        response = client.chat.completions.create(\n",
    "            model=\"gpt-4\",\n",
    "            messages=[\n",
    "                {\"role\": \"user\", \"content\": data.get('prompt')}\n",
    "            ],\n",
    "            temperature=0.7,\n",
    "            max_tokens=100\n",
    "        )\n",
    "\n",
    "        return jsonify({\n",
    "            \"success\": True,\n",
    "            \"response\": response.choices[0].message.content\n",
    "        })\n",
    "\n",
    "    except Exception as e:\n",
    "        return jsonify({\n",
    "            \"success\": False,\n",
    "            \"error\": str(e)\n",
    "        }), 500\n",
    "\n",
    "if __name__ == '__main__':\n",
    "    app.run(debug=True, port=5000)"
   ]
  }
 ],
 "metadata": {
  "kernelspec": {
   "display_name": "base",
   "language": "python",
   "name": "python3"
  },
  "language_info": {
   "codemirror_mode": {
    "name": "ipython",
    "version": 3
   },
   "file_extension": ".py",
   "mimetype": "text/x-python",
   "name": "python",
   "nbconvert_exporter": "python",
   "pygments_lexer": "ipython3",
   "version": "3.11.10"
  }
 },
 "nbformat": 4,
 "nbformat_minor": 2
}
